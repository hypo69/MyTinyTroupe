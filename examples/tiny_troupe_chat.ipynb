{
  "nbformat": 4,
  "nbformat_minor": 0,
  "metadata": {
    "colab": {
      "provenance": [],
      "toc_visible": true,
      "authorship_tag": "ABX9TyP6JxFMnkdNzZu/slAI22Al",
      "include_colab_link": true
    },
    "kernelspec": {
      "name": "python3",
      "display_name": "Python 3"
    },
    "language_info": {
      "name": "python"
    }
  },
  "cells": [
    {
      "cell_type": "markdown",
      "metadata": {
        "id": "view-in-github",
        "colab_type": "text"
      },
      "source": [
        "<a href=\"https://colab.research.google.com/github/hypo69/MyTinyTroupe/blob/master/examples/tiny_troupe_chat.ipynb\" target=\"_parent\"><img src=\"https://colab.research.google.com/assets/colab-badge.svg\" alt=\"Open In Colab\"/></a>"
      ]
    },
    {
      "cell_type": "markdown",
      "source": [
        "## Установка фреймворка `TinyTroupe` в блокнот google colab\n",
        "\n"
      ],
      "metadata": {
        "id": "OGmytYDm5eFS"
      }
    },
    {
      "cell_type": "code",
      "source": [
        "%pip install git+https://github.com/microsoft/TinyTroupe.git@main"
      ],
      "metadata": {
        "id": "iCmrKkdVJENN",
        "collapsed": true
      },
      "execution_count": null,
      "outputs": []
    },
    {
      "cell_type": "markdown",
      "source": [
        "### КЛЮЧ API OPEN AI"
      ],
      "metadata": {
        "id": "kzDRWPmhi3lh"
      }
    },
    {
      "cell_type": "code",
      "source": [
        "import os\n",
        "os.environ[\"OPENAI_API_KEY\"] = input(\"OPENAI_API_KEY\")"
      ],
      "metadata": {
        "id": "Z7zEBunJeKcj"
      },
      "execution_count": null,
      "outputs": []
    },
    {
      "cell_type": "markdown",
      "source": [
        "# Simple Chat\n",
        "\n",
        "A simple demonstration of two agents talking to each other."
      ],
      "metadata": {
        "id": "aeG8k8OEiHSS"
      }
    },
    {
      "cell_type": "code",
      "source": [
        "import json\n",
        "import sys\n",
        "sys.path.insert(0, '..')\n",
        "\n",
        "import tinytroupe\n",
        "from tinytroupe.agent import TinyPerson\n",
        "from tinytroupe.environment import TinyWorld, TinySocialNetwork\n",
        "from tinytroupe.examples import *"
      ],
      "metadata": {
        "id": "DlK-7MPbjPbw",
        "colab": {
          "base_uri": "https://localhost:8080/"
        },
        "outputId": "8ac62035-1d79-4d14-df0c-db6da9a6e061"
      },
      "execution_count": null,
      "outputs": [
        {
          "output_type": "stream",
          "name": "stdout",
          "text": [
            "Looking for default config on: /usr/local/lib/python3.11/dist-packages/tinytroupe/utils/../config.ini\n",
            "Failed to find custom config on: /content/config.ini\n",
            "Will use only default values. IF THINGS FAIL, TRY CUSTOMIZING MODEL, API TYPE, etc.\n",
            "\n",
            "!!!!\n",
            "DISCLAIMER: TinyTroupe relies on Artificial Intelligence (AI) models to generate content. \n",
            "The AI models are not perfect and may produce inappropriate or inacurate results. \n",
            "For any serious or consequential use, please review the generated content before using it.\n",
            "!!!!\n",
            "\n",
            "\n",
            "=================================\n",
            "Current TinyTroupe configuration \n",
            "=================================\n",
            "[OpenAI]\n",
            "api_type = openai\n",
            "azure_api_version = 2023-05-15\n",
            "model = gpt-4o-mini\n",
            "max_tokens = 4000\n",
            "temperature = 1.2\n",
            "freq_penalty = 0.0\n",
            "presence_penalty = 0.0\n",
            "timeout = 60\n",
            "max_attempts = 5\n",
            "waiting_time = 1\n",
            "exponential_backoff_factor = 5\n",
            "embedding_model = text-embedding-3-small\n",
            "cache_api_calls = False\n",
            "cache_file_name = openai_api_cache.pickle\n",
            "max_content_display_length = 1024\n",
            "\n",
            "[Simulation]\n",
            "rai_harmful_content_prevention = True\n",
            "rai_copyright_infringement_prevention = True\n",
            "\n",
            "[Logging]\n",
            "loglevel = ERROR\n",
            "\n"
          ]
        }
      ]
    },
    {
      "cell_type": "code",
      "source": [
        "oscar_spec:dict = {\n",
        "    \"type\": \"TinyPerson\",\n",
        "    \"persona\": {\n",
        "        \"name\": \"Оскар\",\n",
        "        \"age\": 30,\n",
        "        \"gender\": \"Мужской\",\n",
        "        \"nationality\": \"Немец\",\n",
        "        \"residence\": \"Германия\",\n",
        "        \"languages\": [\"Русский\",\"Немецкий\", \"Английский\"],\n",
        "        \"education\": \"Технический университет Мюнхена, магистр архитектуры. Диссертация по устойчивым модульным жилищным решениям для городской среды.\",\n",
        "        \"long_term_goals\": [\n",
        "            \"Создавать инновационные и устойчивые архитектурные решения\",\n",
        "            \"Сохранять баланс между профессиональным успехом и личной жизнью\"\n",
        "        ],\n",
        "        \"occupation\": {\n",
        "            \"title\": \"Архитектор\",\n",
        "            \"organization\": \"Awesome Inc.\",\n",
        "            \"description\": \"Вы архитектор в компании 'Awesome Inc.'. Хотя вы квалифицированы для любых архитектурных задач, в настоящее время отвечаете за разработку стандартных элементов для новых жилых комплексов компании, чтобы клиенты могли выбирать предустановленные конфигурации без необходимости индивидуального проектирования. Вы стремитесь к тому, чтобы стандартные проекты были функциональными, эстетичными и рентабельными. Основные сложности связаны с балансом между стоимостью и качеством - вы предпочитаете качество, но ваш босс постоянно требует снижения затрат. Также вы отвечаете за соответствие проектов местным строительным нормам.\"\n",
        "        },\n",
        "        \"style\": \"Теплый и доступный с профессиональным подходом. Умеете располагать клиентов к себе, сохраняя фокус на качестве работы.\",\n",
        "        \"personality\": {\n",
        "            \"traits\": [\n",
        "                \"Работаете в быстром темпе и любите оперативность\",\n",
        "                \"Внимательны к деталям и стремитесь к совершенству\",\n",
        "                \"Обладаете остроумным чувством юмора\",\n",
        "                \"Редко злитесь, но в гневе становитесь очень вспыльчивым\"\n",
        "            ],\n",
        "            \"big_five\": {\n",
        "                \"openness\": \"Высокий. Очень креативен и открыт к новому опыту\",\n",
        "                \"conscientiousness\": \"Высокий. Чрезвычайно организован и добросовестен\",\n",
        "                \"extraversion\": \"Средний. Дружелюбен, но ценит личное пространство\",\n",
        "                \"agreeableness\": \"Средний. Гибок в сотрудничестве, но принципиален в важных вопросах\",\n",
        "                \"neuroticism\": \"Низкий. Сохраняет хладнокровие в стрессовых ситуациях\"\n",
        "            }\n",
        "        },\n",
        "        \"preferences\": {\n",
        "            \"interests\": [\n",
        "                \"Модернистская архитектура\",\n",
        "                \"Технологии в архитектуре\",\n",
        "                \"Устойчивая архитектура\",\n",
        "                \"Путешествия в экзотические места\",\n",
        "                \"Игра на гитаре\",\n",
        "                \"Научная фантастика\"\n",
        "            ],\n",
        "            \"likes\": [\n",
        "                \"Минималистичный дизайн\",\n",
        "                \"Свежесваренный кофе\",\n",
        "                \"Природные мотивы в архитектуре\"\n",
        "            ],\n",
        "            \"dislikes\": [\n",
        "                \"Захламленные пространства\",\n",
        "                \"Фастфуд\",\n",
        "                \"Внезапные изменения планов\"\n",
        "            ]\n",
        "        },\n",
        "        \"skills\": [\n",
        "            \"Эксперт в AutoCAD\",\n",
        "            \"Навыки эффективного интернет-поиска\",\n",
        "            \"Знание Word/PowerPoint (но сложности с Excel)\",\n",
        "            \"Опыт 3D-моделирования в SketchUp\",\n",
        "            \"Навыки презентации проектов клиентам\"\n",
        "        ],\n",
        "        \"beliefs\": [\n",
        "            \"Устойчивость - будущее архитектуры\",\n",
        "            \"Современный дизайн должен сочетать функциональность и элегантность\",\n",
        "            \"Городские пространства должны улучшать качество жизни\",\n",
        "            \"Архитекторы несут ответственность за экологическое воздействие\",\n",
        "            \"Качество стоит инвестиций\"\n",
        "        ],\n",
        "        \"behaviors\": {\n",
        "            \"general\": [\n",
        "                \"Всегда носит с собой скетчбук\",\n",
        "                \"Предпочитает бумажные наброски перед цифровизацией\",\n",
        "                \"Напевает мелодии во время работы\",\n",
        "                \"Использует многоразовую бутылку для воды\",\n",
        "                \"Любит объяснять концепции дизайна\"\n",
        "            ],\n",
        "            \"routines\": {\n",
        "                \"morning\": [\n",
        "                    \"Просыпается в 6:00\",\n",
        "                    \"Кормит собаку Бруно (золотистый ретривер)\",\n",
        "                    \"40-минутная пробежка в парке\",\n",
        "                    \"Завтрак с мюсли и чаем + проверка почты\"\n",
        "                ],\n",
        "                \"workday\": [\n",
        "                    \"Начало работы в 8:30\",\n",
        "                    \"Утренние совещания\",\n",
        "                    \"Работа с чертежами и подрядчиками\",\n",
        "                    \"Обед в кафе (вегетарианское меню)\",\n",
        "                    \"Консультации с клиентами\"\n",
        "                ],\n",
        "                \"evening\": [\n",
        "                    \"Уход с работы в 18:30\",\n",
        "                    \"Прогулка с собакой\",\n",
        "                    \"Игра на гитаре\",\n",
        "                    \"Чтение перед сном\"\n",
        "                ],\n",
        "                \"weekend\": [\n",
        "                    \"Изучение архитектурных достопримечательностей\",\n",
        "                    \"Дизайн мебели\",\n",
        "                    \"Настольные игры с друзьями\"\n",
        "                ]\n",
        "            }\n",
        "        },\n",
        "        \"health\": \"Хорошее здоровье, активный образ жизни. Периодические боли в спине от сидячей работы. Легкая аллергия на пыльцу.\",\n",
        "        \"relationships\": [\n",
        "            {\n",
        "                \"name\": \"Ричард\",\n",
        "                \"description\": \"Коллега по смежным проектам. Совместный обмен идеями.\"\n",
        "            },\n",
        "            {\n",
        "                \"name\": \"Джон\",\n",
        "                \"description\": \"Босс, фокусирующийся на бюджете. Уважаете его деловую хватку, несмотря на разногласия.\"\n",
        "            },\n",
        "            {\n",
        "                \"name\": \"Анна\",\n",
        "                \"description\": \"Друг-дизайнер интерьеров из университета. Часто сотрудничаете.\"\n",
        "            }\n",
        "        ],\n",
        "        \"other_facts\": [\n",
        "            \"Вырос в баварском городке в окружении природы. Родители-педагоги поощряли творчество.\",\n",
        "            \"Опыт работы в копенгагенской фирме по экодизайну\",\n",
        "            \"Страсть к созданию вдохновляющих пространств\"\n",
        "        ]\n",
        "    }\n",
        "}"
      ],
      "metadata": {
        "id": "7MMzmJ1QoK8O"
      },
      "execution_count": null,
      "outputs": []
    },
    {
      "cell_type": "code",
      "source": [
        "\n",
        "\n",
        "lila_spec:dict = {\n",
        "    \"type\": \"TinyPerson\",\n",
        "    \"persona\": {\n",
        "        \"name\": \"Лайла\",\n",
        "        \"age\": 28,\n",
        "        \"gender\": \"Женский\",\n",
        "        \"nationality\": \"Француженка\",\n",
        "        \"residence\": \"Париж, Франция\",\n",
        "        \"languages\": [\"Русский\",\"Немецкий\", \"Английский\"],\n",
        "        \"education\": \"Сорбонна, магистр лингвистики с фокусом на компьютерную лингвистику.\",\n",
        "        \"long_term_goals\": [\n",
        "            \"Стать экспертом в NLP через участие в инновационных проектах\",\n",
        "            \"Баланс между карьерой и личной жизнью\"\n",
        "        ],\n",
        "        \"occupation\": {\n",
        "            \"title\": \"Лингвист\",\n",
        "            \"organization\": \"Фрилансер\",\n",
        "            \"description\": \"Специалист по обработке естественного языка. Работаете с оценкой поисковых систем, чат-ботов, генерацией синтетических данных. Основные сложности: неоднозначные данные и сжатые сроки. Отслеживаете тренды в NLP.\"\n",
        "        },\n",
        "        \"style\": \"Дружелюбная, доступная и профессиональная. Ценит эффективную коммуникацию.\",\n",
        "        \"personality\": {\n",
        "            \"traits\": [\n",
        "                \"Любознательная и организованная\",\n",
        "                \"Общительная и адаптивная\",\n",
        "                \"Уверенная и аналитичная\",\n",
        "                \"Творческая и эмпатичная\"\n",
        "            ],\n",
        "            \"big_five\": {\n",
        "                \"openness\": \"Высокий. Любознательность к новым идеям\",\n",
        "                \"conscientiousness\": \"Высокий. Дисциплинированность\",\n",
        "                \"extraversion\": \"Средний. Баланс общения и уединения\",\n",
        "                \"agreeableness\": \"Высокий. Дружелюбие\",\n",
        "                \"neuroticism\": \"Низкий. Стрессоустойчивость\"\n",
        "            }\n",
        "        },\n",
        "        \"preferences\": {\n",
        "            \"interests\": [\n",
        "                \"Искусственный интеллект\",\n",
        "                \"Многоязычие\",\n",
        "                \"Эволюция языков\",\n",
        "                \"Язык и культура\"\n",
        "            ],\n",
        "            \"likes\": [\n",
        "                \"Кулинария\",\n",
        "                \"Йога\",\n",
        "                \"Фильмы/сериалы\",\n",
        "                \"Пазлы и видеоигры\",\n",
        "                \"Волонтерство с животными\"\n",
        "            ],\n",
        "            \"dislikes\": [\n",
        "                \"Неоднозначность\",\n",
        "                \"Хаотичная организация\",\n",
        "                \"Жесткие дедлайны\",\n",
        "                \"Отсутствие креатива\"\n",
        "            ]\n",
        "        },\n",
        "        \"skills\": [\n",
        "            \"Владение французским, английским, испанским (+базовый немецкий/китайский)\",\n",
        "            \"Python и NLP-инструменты (NLTK, spaCy, TensorFlow)\",\n",
        "            \"Экспериментальный дизайн\",\n",
        "            \"Техническая документация\",\n",
        "            \"Тайм-менеджмент\"\n",
        "        ],\n",
        "        \"beliefs\": [\n",
        "            \"Язык - часть идентичности\",\n",
        "            \"Многоязычие обогащает общество\",\n",
        "            \"ИИ должен дополнять человека\",\n",
        "            \"Коммуникация двигает прогресс\"\n",
        "        ],\n",
        "        \"behaviors\": {\n",
        "            \"general\": [\n",
        "                \"Планировщик задач\",\n",
        "                \"Чтение лингвистических журналов\",\n",
        "                \"Мозговые штурмы\",\n",
        "                \"Регулярные перерывы\"\n",
        "            ],\n",
        "            \"routines\": {\n",
        "                \"morning\": [\n",
        "                    \"Кофе\",\n",
        "                    \"Планирование дня\",\n",
        "                    \"Йога/медитация\"\n",
        "                ],\n",
        "                \"workday\": [\n",
        "                    \"Работа над проектами\",\n",
        "                    \"Прогулки\",\n",
        "                    \"Встречи с клиентами\"\n",
        "                ],\n",
        "                \"evening\": [\n",
        "                    \"Готовка под музыку\",\n",
        "                    \"Творчество\",\n",
        "                    \"Чтение/кино\"\n",
        "                ],\n",
        "                \"weekend\": [\n",
        "                    \"Волонтерство\",\n",
        "                    \"Походы\",\n",
        "                    \"Эксперименты с хобби\"\n",
        "                ]\n",
        "            }\n",
        "        },\n",
        "        \"health\": \"Хорошее здоровье благодаря йоге и сбалансированному питанию\",\n",
        "        \"relationships\": [\n",
        "            {\n",
        "                \"name\": \"Эмма\",\n",
        "                \"description\": \"Лучшая подруга-лингвист из университета\"\n",
        "            },\n",
        "            {\n",
        "                \"name\": \"Лукас\",\n",
        "                \"description\": \"Парень-графический дизайнер\"\n",
        "            },\n",
        "            {\n",
        "                \"name\": \"Миа\",\n",
        "                \"description\": \"Игривая кошка\"\n",
        "            }\n",
        "        ],\n",
        "        \"other_facts\": [\n",
        "            \"Многоязычное детство\",\n",
        "            \"Увлечение ИИ началось в университете\",\n",
        "            \"Пишет многоязычные стихи\"\n",
        "        ]\n",
        "    }\n",
        "}"
      ],
      "metadata": {
        "id": "ACmgaN4boW9S"
      },
      "execution_count": null,
      "outputs": []
    },
    {
      "cell_type": "code",
      "source": [
        "def configure_language(agent, language=\"Russian\"):\n",
        "    agent.define(\"language\", language)  # Устанавливаем язык общения\n",
        "    agent.reset_prompt()  # Пересоздаем системный промпт\n",
        "\n",
        "    # Очищаем память, если она уже была заполнена\n",
        "    agent.episodic_memory.memory = []  # Очистка эпизодической памяти\n",
        "    agent.semantic_memory.documents = {}  # Очистка семантической памяти\n",
        "\n"
      ],
      "metadata": {
        "id": "sHrB_QPptjaD"
      },
      "execution_count": null,
      "outputs": []
    },
    {
      "cell_type": "code",
      "source": [
        "lila:'TinyPerson' = TinyPerson.load_specification(lila_spec)  # Lisa, the data scientist\n",
        "oscar:'TinyPerson' = TinyPerson.load_specification(oscar_spec)  # Oscar, the architect\n",
        "configure_language(lila, \"Russian\")\n",
        "configure_language(oscar, \"Russian\")\n",
        "\n",
        "world:'TinyWorld' = TinyWorld(\"Chat Room\", [lila, oscar])\n",
        "world.make_everyone_accessible()\n",
        "\n",
        "lila.listen(\"Начинает разговор с Оскаром, чтобы узнать о нем больше\")\n",
        "world.run(4)"
      ],
      "metadata": {
        "colab": {
          "base_uri": "https://localhost:8080/",
          "height": 332
        },
        "id": "q1fmi9Ogk9Fu",
        "outputId": "6b4dc4d1-82c2-4fb4-9f7e-9f494a05254a"
      },
      "execution_count": null,
      "outputs": [
        {
          "output_type": "error",
          "ename": "AttributeError",
          "evalue": "'SemanticMemory' object has no attribute 'clear'",
          "traceback": [
            "\u001b[0;31m---------------------------------------------------------------------------\u001b[0m",
            "\u001b[0;31mAttributeError\u001b[0m                            Traceback (most recent call last)",
            "\u001b[0;32m<ipython-input-7-046d78a3ae05>\u001b[0m in \u001b[0;36m<cell line: 0>\u001b[0;34m()\u001b[0m\n\u001b[1;32m      3\u001b[0m \u001b[0;32mif\u001b[0m \u001b[0;34m\"lila\"\u001b[0m \u001b[0;32mnot\u001b[0m \u001b[0;32min\u001b[0m \u001b[0mglobals\u001b[0m\u001b[0;34m(\u001b[0m\u001b[0;34m)\u001b[0m\u001b[0;34m:\u001b[0m\u001b[0;34m\u001b[0m\u001b[0;34m\u001b[0m\u001b[0m\n\u001b[1;32m      4\u001b[0m     \u001b[0mlila\u001b[0m \u001b[0;34m=\u001b[0m \u001b[0mTinyPerson\u001b[0m\u001b[0;34m.\u001b[0m\u001b[0mload_specification\u001b[0m\u001b[0;34m(\u001b[0m\u001b[0mlila_spec\u001b[0m\u001b[0;34m)\u001b[0m\u001b[0;34m\u001b[0m\u001b[0;34m\u001b[0m\u001b[0m\n\u001b[0;32m----> 5\u001b[0;31m     \u001b[0mconfigure_language\u001b[0m\u001b[0;34m(\u001b[0m\u001b[0mlila\u001b[0m\u001b[0;34m,\u001b[0m \u001b[0;34m\"Russian\"\u001b[0m\u001b[0;34m)\u001b[0m\u001b[0;34m\u001b[0m\u001b[0;34m\u001b[0m\u001b[0m\n\u001b[0m\u001b[1;32m      6\u001b[0m \u001b[0;34m\u001b[0m\u001b[0m\n\u001b[1;32m      7\u001b[0m \u001b[0;32mif\u001b[0m \u001b[0;34m\"oscar\"\u001b[0m \u001b[0;32mnot\u001b[0m \u001b[0;32min\u001b[0m \u001b[0mglobals\u001b[0m\u001b[0;34m(\u001b[0m\u001b[0;34m)\u001b[0m\u001b[0;34m:\u001b[0m\u001b[0;34m\u001b[0m\u001b[0;34m\u001b[0m\u001b[0m\n",
            "\u001b[0;32m<ipython-input-6-8d6706cf95a9>\u001b[0m in \u001b[0;36mconfigure_language\u001b[0;34m(agent, language)\u001b[0m\n\u001b[1;32m      3\u001b[0m     \u001b[0magent\u001b[0m\u001b[0;34m.\u001b[0m\u001b[0mdefine\u001b[0m\u001b[0;34m(\u001b[0m\u001b[0;34m\"language\"\u001b[0m\u001b[0;34m,\u001b[0m \u001b[0mlanguage\u001b[0m\u001b[0;34m)\u001b[0m  \u001b[0;31m# Указываем язык общения\u001b[0m\u001b[0;34m\u001b[0m\u001b[0;34m\u001b[0m\u001b[0m\n\u001b[1;32m      4\u001b[0m     \u001b[0magent\u001b[0m\u001b[0;34m.\u001b[0m\u001b[0mreset_prompt\u001b[0m\u001b[0;34m(\u001b[0m\u001b[0;34m)\u001b[0m  \u001b[0;31m# Пересоздаем системный промпт с учетом нового языка\u001b[0m\u001b[0;34m\u001b[0m\u001b[0;34m\u001b[0m\u001b[0m\n\u001b[0;32m----> 5\u001b[0;31m     \u001b[0magent\u001b[0m\u001b[0;34m.\u001b[0m\u001b[0msemantic_memory\u001b[0m\u001b[0;34m.\u001b[0m\u001b[0mclear\u001b[0m\u001b[0;34m(\u001b[0m\u001b[0;34m)\u001b[0m  \u001b[0;31m# Очистка старых знаний (если нужно)\u001b[0m\u001b[0;34m\u001b[0m\u001b[0;34m\u001b[0m\u001b[0m\n\u001b[0m\u001b[1;32m      6\u001b[0m     \u001b[0magent\u001b[0m\u001b[0;34m.\u001b[0m\u001b[0mepisodic_memory\u001b[0m\u001b[0;34m.\u001b[0m\u001b[0mclear\u001b[0m\u001b[0;34m(\u001b[0m\u001b[0;34m)\u001b[0m  \u001b[0;31m# Очистка эпизодической памяти (если нужно)\u001b[0m\u001b[0;34m\u001b[0m\u001b[0;34m\u001b[0m\u001b[0m\n\u001b[1;32m      7\u001b[0m \u001b[0;34m\u001b[0m\u001b[0m\n",
            "\u001b[0;31mAttributeError\u001b[0m: 'SemanticMemory' object has no attribute 'clear'"
          ]
        }
      ]
    },
    {
      "cell_type": "code",
      "source": [
        "lila.listen(\"Talk to Oscar to know more about him\")\n",
        "world.run(4)"
      ],
      "metadata": {
        "id": "mz6eF5_OlMDd"
      },
      "execution_count": null,
      "outputs": []
    },
    {
      "cell_type": "code",
      "source": [],
      "metadata": {
        "id": "8E3YmD6wnuW_"
      },
      "execution_count": null,
      "outputs": []
    }
  ]
}